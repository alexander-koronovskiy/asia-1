{
 "cells": [
  {
   "cell_type": "code",
   "execution_count": 2,
   "metadata": {},
   "outputs": [
    {
     "name": "stdout",
     "output_type": "stream",
     "text": [
      "2024-02-07 17:30:57,112 INFO sqlalchemy.engine.Engine BEGIN (implicit)\n",
      "2024-02-07 17:30:57,114 INFO sqlalchemy.engine.Engine INSERT INTO products (name, description, price) VALUES (?, ?, ?)\n",
      "2024-02-07 17:30:57,115 INFO sqlalchemy.engine.Engine [cached since 115s ago] ('приставка', 'описание товара', 500.0)\n",
      "2024-02-07 17:30:57,117 INFO sqlalchemy.engine.Engine COMMIT\n"
     ]
    }
   ],
   "source": [
    "from db import add_item\n",
    "\n",
    "name, description, price = 'приставка', 'описание товара', 500\n",
    "add_item(name, description, price)"
   ]
  },
  {
   "cell_type": "code",
   "execution_count": 3,
   "metadata": {},
   "outputs": [
    {
     "name": "stdout",
     "output_type": "stream",
     "text": [
      "2024-02-07 17:37:55,328 INFO sqlalchemy.engine.Engine SELECT products.id AS products_id, products.name AS products_name, products.description AS products_description, products.price AS products_price \n",
      "FROM products\n",
      "2024-02-07 17:37:55,330 INFO sqlalchemy.engine.Engine [cached since 198.6s ago] ()\n"
     ]
    },
    {
     "data": {
      "text/plain": [
       "[[1, 'товар', 'описание товара', '10.99'],\n",
       " [2, 'приставка', 'описание товара', '500.0'],\n",
       " [3, 'Tovar', 'ehehehr', '300.0'],\n",
       " [4, 'tovar', 'ddhfh', '55.19'],\n",
       " [5, 'приставка', 'описание товара', '500.0'],\n",
       " [6, 'tovar', 'ddhfh', '55.19'],\n",
       " [7, 'tovar', 'ddhfh', '55.19'],\n",
       " [8, 'tovar', 'ddhfh', '55.19'],\n",
       " [9, 'приставка', 'описание товара', '500.0'],\n",
       " [10, 'tovar', 'ddhfh', '55.19'],\n",
       " [11, 'приставка', 'описание товара', '500.0']]"
      ]
     },
     "execution_count": 3,
     "metadata": {},
     "output_type": "execute_result"
    }
   ],
   "source": [
    "from db import show_items\n",
    "\n",
    "show_items()"
   ]
  }
 ],
 "metadata": {
  "kernelspec": {
   "display_name": "Python 3",
   "language": "python",
   "name": "python3"
  },
  "language_info": {
   "codemirror_mode": {
    "name": "ipython",
    "version": 3
   },
   "file_extension": ".py",
   "mimetype": "text/x-python",
   "name": "python",
   "nbconvert_exporter": "python",
   "pygments_lexer": "ipython3",
   "version": "3.9.6"
  }
 },
 "nbformat": 4,
 "nbformat_minor": 2
}
