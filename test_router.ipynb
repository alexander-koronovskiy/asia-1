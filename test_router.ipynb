{
 "cells": [
  {
   "cell_type": "code",
   "execution_count": 1,
   "metadata": {},
   "outputs": [
    {
     "name": "stdout",
     "output_type": "stream",
     "text": [
      "2024-02-07 17:41:44,999 INFO sqlalchemy.engine.Engine BEGIN (implicit)\n",
      "2024-02-07 17:41:45,000 INFO sqlalchemy.engine.Engine COMMIT\n",
      "2024-02-07 17:41:45,002 INFO sqlalchemy.engine.Engine BEGIN (implicit)\n",
      "2024-02-07 17:41:45,003 INFO sqlalchemy.engine.Engine SELECT products.id AS products_id, products.name AS products_name, products.description AS products_description, products.price AS products_price \n",
      "FROM products\n",
      "2024-02-07 17:41:45,003 INFO sqlalchemy.engine.Engine [generated in 0.00034s] ()\n"
     ]
    },
    {
     "data": {
      "text/plain": [
       "[[1, 'товар', 'описание товара', '10.99'],\n",
       " [2, 'приставка', 'описание товара', '500.0'],\n",
       " [3, 'Tovar', 'ehehehr', '300.0'],\n",
       " [4, 'tovar', 'ddhfh', '55.19'],\n",
       " [5, 'приставка', 'описание товара', '500.0'],\n",
       " [6, 'tovar', 'ddhfh', '55.19'],\n",
       " [7, 'tovar', 'ddhfh', '55.19'],\n",
       " [8, 'tovar', 'ddhfh', '55.19'],\n",
       " [9, 'приставка', 'описание товара', '500.0'],\n",
       " [10, 'tovar', 'ddhfh', '55.19'],\n",
       " [11, 'приставка', 'описание товара', '500.0'],\n",
       " [12, 'tovar', 'ddhfh', '55.19'],\n",
       " [13, 'tovar', 'ddhfh', '55.19']]"
      ]
     },
     "execution_count": 1,
     "metadata": {},
     "output_type": "execute_result"
    }
   ],
   "source": [
    "from router import parse_to_add, show_all\n",
    "\n",
    "show_all()"
   ]
  }
 ],
 "metadata": {
  "kernelspec": {
   "display_name": "Python 3",
   "language": "python",
   "name": "python3"
  },
  "language_info": {
   "codemirror_mode": {
    "name": "ipython",
    "version": 3
   },
   "file_extension": ".py",
   "mimetype": "text/x-python",
   "name": "python",
   "nbconvert_exporter": "python",
   "pygments_lexer": "ipython3",
   "version": "3.9.6"
  }
 },
 "nbformat": 4,
 "nbformat_minor": 2
}
