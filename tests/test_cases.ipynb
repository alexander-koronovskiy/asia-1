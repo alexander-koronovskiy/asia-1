{
 "cells": [
  {
   "cell_type": "code",
   "execution_count": 1,
   "metadata": {},
   "outputs": [
    {
     "name": "stdout",
     "output_type": "stream",
     "text": [
      "2024-02-07 17:09:11,616 INFO sqlalchemy.engine.Engine BEGIN (implicit)\n",
      "2024-02-07 17:09:11,616 INFO sqlalchemy.engine.Engine COMMIT\n",
      "2024-02-07 17:09:11,618 INFO sqlalchemy.engine.Engine BEGIN (implicit)\n",
      "2024-02-07 17:09:11,619 INFO sqlalchemy.engine.Engine INSERT INTO products (name, description, price) VALUES (?, ?, ?)\n",
      "2024-02-07 17:09:11,619 INFO sqlalchemy.engine.Engine [generated in 0.00038s] ('приставка', 'описание товара', 500.0)\n",
      "2024-02-07 17:09:11,620 INFO sqlalchemy.engine.Engine COMMIT\n"
     ]
    }
   ],
   "source": [
    "from db import add_item\n",
    "\n",
    "name, description, price = 'приставка', 'описание товара', 500\n",
    "add_item(name, description, price)"
   ]
  }
 ],
 "metadata": {
  "kernelspec": {
   "display_name": "Python 3",
   "language": "python",
   "name": "python3"
  },
  "language_info": {
   "codemirror_mode": {
    "name": "ipython",
    "version": 3
   },
   "file_extension": ".py",
   "mimetype": "text/x-python",
   "name": "python",
   "nbconvert_exporter": "python",
   "pygments_lexer": "ipython3",
   "version": "3.9.6"
  }
 },
 "nbformat": 4,
 "nbformat_minor": 2
}
