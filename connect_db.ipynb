{
 "cells": [
  {
   "cell_type": "code",
   "execution_count": 22,
   "metadata": {},
   "outputs": [
    {
     "name": "stdout",
     "output_type": "stream",
     "text": [
      "prochitano INSERT INTO products (name, description, price) VALUES ('Tovar', 'ehehehr', '300.0')\n"
     ]
    },
    {
     "name": "stderr",
     "output_type": "stream",
     "text": [
      "2024-02-07 16:03:09,296 (__init__.py:1027 MainThread) ERROR - TeleBot: \"Infinity polling: polling exited\"\n",
      "2024-02-07 16:03:09,297 (__init__.py:1029 MainThread) ERROR - TeleBot: \"Break infinity polling\"\n"
     ]
    }
   ],
   "source": [
    "import sqlite3\n",
    "import telebot\n",
    "\n",
    "# Подключение к базе данных\n",
    "conn = sqlite3.connect('shop.db')\n",
    "cursor = conn.cursor()\n",
    "\n",
    "# Создание таблицы, если она не существует\n",
    "cursor.execute('''CREATE TABLE IF NOT EXISTS products\n",
    "                (id INTEGER PRIMARY KEY AUTOINCREMENT,\n",
    "                name TEXT,\n",
    "                description TEXT,\n",
    "                price TEXT)''')\n",
    "conn.commit()\n",
    "\n",
    "# Токен вашего телеграм бота\n",
    "TOKEN = '6934425663:AAHPK8N7O_IRt2K98V78fCiF02yDWCqNwPM'\n",
    "bot = telebot.TeleBot(TOKEN)\n",
    "\n",
    "@bot.message_handler(func=lambda message: True)\n",
    "def handle_message(message):\n",
    "    chat_id = message.chat.id\n",
    "    if message.text == '/start':\n",
    "        bot.send_message(chat_id, \"Привет! Магазин бытовой техники Хоко Маркет Азия 1 в Астане! Отправь мне имя товара, описание и цену в формате: Название товара / Описание / Цена\")\n",
    "    else:\n",
    "        try:\n",
    "            name, description, price = message.text.split('/')\n",
    "            name = name.strip()\n",
    "            description = description.strip()\n",
    "            price = float(price.strip())\n",
    "\n",
    "            # Добавление товара в базу данных\n",
    "            sql = f\"INSERT INTO products (name, description, price) VALUES ('{name}', '{description}', '{price}')\"\n",
    "            print('prochitano', sql)\n",
    "\n",
    "            cursor.execute(sql)\n",
    "            conn.commit()\n",
    "            print('dobavleno')\n",
    "\n",
    "            bot.send_message(chat_id, \"Товар успешно добавлен!\")\n",
    "\n",
    "        except Exception as e:\n",
    "            bot.send_message(chat_id, \"Ошибка при добавлении товара. Попробуйте еще раз.\")\n",
    "\n",
    "bot.infinity_polling()"
   ]
  }
 ],
 "metadata": {
  "kernelspec": {
   "display_name": "venv",
   "language": "python",
   "name": "python3"
  },
  "language_info": {
   "codemirror_mode": {
    "name": "ipython",
    "version": 3
   },
   "file_extension": ".py",
   "mimetype": "text/x-python",
   "name": "python",
   "nbconvert_exporter": "python",
   "pygments_lexer": "ipython3",
   "version": "3.9.6"
  }
 },
 "nbformat": 4,
 "nbformat_minor": 2
}
