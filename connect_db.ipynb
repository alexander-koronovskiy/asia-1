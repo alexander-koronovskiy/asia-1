{
 "cells": [
  {
   "cell_type": "code",
   "execution_count": 1,
   "metadata": {},
   "outputs": [
    {
     "name": "stdout",
     "output_type": "stream",
     "text": [
      "2024-02-07 17:13:15,218 INFO sqlalchemy.engine.Engine BEGIN (implicit)\n",
      "2024-02-07 17:13:15,218 INFO sqlalchemy.engine.Engine COMMIT\n",
      "2024-02-07 17:13:26,660 INFO sqlalchemy.engine.Engine BEGIN (implicit)\n",
      "2024-02-07 17:13:26,667 INFO sqlalchemy.engine.Engine INSERT INTO products (name, description, price) VALUES (?, ?, ?)\n",
      "2024-02-07 17:13:26,669 INFO sqlalchemy.engine.Engine [generated in 0.00191s] ('tovar', 'ddhfh', 55.19)\n",
      "2024-02-07 17:13:26,673 INFO sqlalchemy.engine.Engine COMMIT\n"
     ]
    },
    {
     "name": "stderr",
     "output_type": "stream",
     "text": [
      "2024-02-07 17:13:30,182 (__init__.py:1027 MainThread) ERROR - TeleBot: \"Infinity polling: polling exited\"\n",
      "2024-02-07 17:13:30,183 (__init__.py:1029 MainThread) ERROR - TeleBot: \"Break infinity polling\"\n"
     ]
    }
   ],
   "source": [
    "import telebot\n",
    "from router import parse_to_add\n",
    "\n",
    "# Токен вашего телеграм бота\n",
    "TOKEN = '6934425663:AAHPK8N7O_IRt2K98V78fCiF02yDWCqNwPM'\n",
    "HELLO = 'Привет! Магазин бытовой техники Хоко Маркет Азия 1 в Астане! Отправь мне имя товара, описание и цену в формате: Название товара / Описание / Цена'\n",
    "\n",
    "\n",
    "bot = telebot.TeleBot(TOKEN)\n",
    "\n",
    "@bot.message_handler(func=lambda message: True)\n",
    "def handle_message(message):\n",
    "    chat_id = message.chat.id\n",
    "    if message.text == '/start':\n",
    "        bot.send_message(chat_id, HELLO)\n",
    "    else:\n",
    "        try:\n",
    "            parse_to_add(message)\n",
    "            bot.send_message(chat_id, \"Товар успешно добавлен!\")\n",
    "\n",
    "        except Exception as e:\n",
    "            bot.send_message(chat_id, \"Ошибка при добавлении товара. Попробуйте еще раз.\")\n",
    "\n",
    "\n",
    "\n",
    "bot.infinity_polling()"
   ]
  }
 ],
 "metadata": {
  "kernelspec": {
   "display_name": "venv",
   "language": "python",
   "name": "python3"
  },
  "language_info": {
   "codemirror_mode": {
    "name": "ipython",
    "version": 3
   },
   "file_extension": ".py",
   "mimetype": "text/x-python",
   "name": "python",
   "nbconvert_exporter": "python",
   "pygments_lexer": "ipython3",
   "version": "3.9.6"
  }
 },
 "nbformat": 4,
 "nbformat_minor": 2
}
