{
 "cells": [
  {
   "cell_type": "code",
   "execution_count": 2,
   "metadata": {},
   "outputs": [
    {
     "name": "stdout",
     "output_type": "stream",
     "text": [
      "2024-02-07 16:49:47,665 INFO sqlalchemy.engine.Engine BEGIN (implicit)\n",
      "2024-02-07 16:49:47,668 INFO sqlalchemy.engine.Engine INSERT INTO products (name, description, price) VALUES (?, ?, ?)\n",
      "2024-02-07 16:49:47,669 INFO sqlalchemy.engine.Engine [cached since 71.36s ago] ('Tovar', 'ehehehr', 300.0)\n",
      "2024-02-07 16:49:47,672 INFO sqlalchemy.engine.Engine COMMIT\n"
     ]
    },
    {
     "name": "stderr",
     "output_type": "stream",
     "text": [
      "2024-02-07 16:49:53,246 (__init__.py:1027 MainThread) ERROR - TeleBot: \"Infinity polling: polling exited\"\n",
      "2024-02-07 16:49:53,247 (__init__.py:1029 MainThread) ERROR - TeleBot: \"Break infinity polling\"\n"
     ]
    }
   ],
   "source": [
    "import telebot\n",
    "from db import add_item\n",
    "\n",
    "# Токен вашего телеграм бота\n",
    "TOKEN = '6934425663:AAHPK8N7O_IRt2K98V78fCiF02yDWCqNwPM'\n",
    "bot = telebot.TeleBot(TOKEN)\n",
    "\n",
    "@bot.message_handler(func=lambda message: True)\n",
    "def handle_message(message):\n",
    "    chat_id = message.chat.id\n",
    "    if message.text == '/start':\n",
    "        bot.send_message(chat_id, \"Привет! Магазин бытовой техники Хоко Маркет Азия 1 в Астане! Отправь мне имя товара, описание и цену в формате: Название товара / Описание / Цена\")\n",
    "    else:\n",
    "        try:\n",
    "            name, description, price = message.text.split('/')\n",
    "            name = name.strip()\n",
    "            description = description.strip()\n",
    "            price = float(price.strip())\n",
    "            add_item(name, description, price)\n",
    "            bot.send_message(chat_id, \"Товар успешно добавлен!\")\n",
    "\n",
    "        except Exception as e:\n",
    "            bot.send_message(chat_id, \"Ошибка при добавлении товара. Попробуйте еще раз.\")\n",
    "\n",
    "bot.infinity_polling()"
   ]
  },
  {
   "cell_type": "code",
   "execution_count": 1,
   "metadata": {},
   "outputs": [
    {
     "name": "stdout",
     "output_type": "stream",
     "text": [
      "2024-02-07 16:48:36,307 INFO sqlalchemy.engine.Engine BEGIN (implicit)\n",
      "2024-02-07 16:48:36,307 INFO sqlalchemy.engine.Engine COMMIT\n",
      "2024-02-07 16:48:36,309 INFO sqlalchemy.engine.Engine BEGIN (implicit)\n",
      "2024-02-07 16:48:36,310 INFO sqlalchemy.engine.Engine INSERT INTO products (name, description, price) VALUES (?, ?, ?)\n",
      "2024-02-07 16:48:36,310 INFO sqlalchemy.engine.Engine [generated in 0.00036s] ('приставка', 'описание товара', 500.0)\n",
      "2024-02-07 16:48:36,312 INFO sqlalchemy.engine.Engine COMMIT\n"
     ]
    }
   ],
   "source": [
    "from db import add_item\n",
    "\n",
    "name, description, price = 'приставка', 'описание товара', 500\n",
    "add_item(name, description, price)"
   ]
  }
 ],
 "metadata": {
  "kernelspec": {
   "display_name": "venv",
   "language": "python",
   "name": "python3"
  },
  "language_info": {
   "codemirror_mode": {
    "name": "ipython",
    "version": 3
   },
   "file_extension": ".py",
   "mimetype": "text/x-python",
   "name": "python",
   "nbconvert_exporter": "python",
   "pygments_lexer": "ipython3",
   "version": "3.9.6"
  }
 },
 "nbformat": 4,
 "nbformat_minor": 2
}
