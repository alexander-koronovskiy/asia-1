{
 "cells": [
  {
   "cell_type": "code",
   "execution_count": 2,
   "metadata": {},
   "outputs": [
    {
     "name": "stderr",
     "output_type": "stream",
     "text": [
      "2024-02-07 16:31:37,381 (__init__.py:1027 MainThread) ERROR - TeleBot: \"Infinity polling: polling exited\"\n",
      "2024-02-07 16:31:37,382 (__init__.py:1029 MainThread) ERROR - TeleBot: \"Break infinity polling\"\n"
     ]
    }
   ],
   "source": [
    "import telebot\n",
    "\n",
    "# Токен вашего телеграм бота\n",
    "TOKEN = '6934425663:AAHPK8N7O_IRt2K98V78fCiF02yDWCqNwPM'\n",
    "bot = telebot.TeleBot(TOKEN)\n",
    "\n",
    "@bot.message_handler(func=lambda message: True)\n",
    "def handle_message(message):\n",
    "    chat_id = message.chat.id\n",
    "    if message.text == '/start':\n",
    "        bot.send_message(chat_id, \"Привет! Магазин бытовой техники Хоко Маркет Азия 1 в Астане! Отправь мне имя товара, описание и цену в формате: Название товара / Описание / Цена\")\n",
    "    else:\n",
    "        try:\n",
    "            name, description, price = message.text.split('/')\n",
    "            name = name.strip()\n",
    "            description = description.strip()\n",
    "            price = float(price.strip())\n",
    "            bot.send_message(chat_id, \"Товар успешно добавлен!\")\n",
    "\n",
    "        except Exception as e:\n",
    "            bot.send_message(chat_id, \"Ошибка при добавлении товара. Попробуйте еще раз.\")\n",
    "\n",
    "bot.infinity_polling()"
   ]
  }
 ],
 "metadata": {
  "kernelspec": {
   "display_name": "venv",
   "language": "python",
   "name": "python3"
  },
  "language_info": {
   "codemirror_mode": {
    "name": "ipython",
    "version": 3
   },
   "file_extension": ".py",
   "mimetype": "text/x-python",
   "name": "python",
   "nbconvert_exporter": "python",
   "pygments_lexer": "ipython3",
   "version": "3.9.6"
  }
 },
 "nbformat": 4,
 "nbformat_minor": 2
}
